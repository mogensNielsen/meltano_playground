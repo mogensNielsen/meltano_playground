{
 "cells": [
  {
   "cell_type": "code",
   "execution_count": 2,
   "metadata": {},
   "outputs": [],
   "source": [
    "import duckdb"
   ]
  },
  {
   "cell_type": "code",
   "execution_count": 3,
   "metadata": {},
   "outputs": [],
   "source": [
    "conn_duckdb = duckdb.connect('../output/warehouse.duckdb')"
   ]
  },
  {
   "cell_type": "code",
   "execution_count": 4,
   "metadata": {},
   "outputs": [
    {
     "name": "stdout",
     "output_type": "stream",
     "text": [
      "┌───────────────┐\n",
      "│ database_name │\n",
      "│    varchar    │\n",
      "├───────────────┤\n",
      "│ warehouse     │\n",
      "└───────────────┘\n",
      "\n"
     ]
    }
   ],
   "source": [
    "print(conn_duckdb.sql('SHOW DATABASES'))"
   ]
  },
  {
   "cell_type": "code",
   "execution_count": 5,
   "metadata": {},
   "outputs": [
    {
     "name": "stdout",
     "output_type": "stream",
     "text": [
      "┌──────────────┬────────────────────┬──────────────┬───┬──────────────────────┬──────────────────────┬──────────┐\n",
      "│ catalog_name │    schema_name     │ schema_owner │ … │ default_character_…  │ default_character_…  │ sql_path │\n",
      "│   varchar    │      varchar       │   varchar    │   │        int32         │        int32         │ varchar  │\n",
      "├──────────────┼────────────────────┼──────────────┼───┼──────────────────────┼──────────────────────┼──────────┤\n",
      "│ system       │ information_schema │ duckdb       │ … │                 NULL │                 NULL │ NULL     │\n",
      "│ system       │ main               │ duckdb       │ … │                 NULL │                 NULL │ NULL     │\n",
      "│ system       │ pg_catalog         │ duckdb       │ … │                 NULL │                 NULL │ NULL     │\n",
      "│ temp         │ information_schema │ duckdb       │ … │                 NULL │                 NULL │ NULL     │\n",
      "│ temp         │ main               │ duckdb       │ … │                 NULL │                 NULL │ NULL     │\n",
      "│ temp         │ pg_catalog         │ duckdb       │ … │                 NULL │                 NULL │ NULL     │\n",
      "│ warehouse    │ information_schema │ duckdb       │ … │                 NULL │                 NULL │ NULL     │\n",
      "│ warehouse    │ main               │ duckdb       │ … │                 NULL │                 NULL │ NULL     │\n",
      "│ warehouse    │ mogens             │ duckdb       │ … │                 NULL │                 NULL │ NULL     │\n",
      "│ warehouse    │ pg_catalog         │ duckdb       │ … │                 NULL │                 NULL │ NULL     │\n",
      "├──────────────┴────────────────────┴──────────────┴───┴──────────────────────┴──────────────────────┴──────────┤\n",
      "│ 10 rows                                                                                   7 columns (6 shown) │\n",
      "└───────────────────────────────────────────────────────────────────────────────────────────────────────────────┘\n",
      "\n"
     ]
    }
   ],
   "source": [
    "print(conn_duckdb.sql('select * from warehouse.information_schema.schemata'))"
   ]
  },
  {
   "cell_type": "code",
   "execution_count": 6,
   "metadata": {},
   "outputs": [
    {
     "name": "stdout",
     "output_type": "stream",
     "text": [
      "┌───────────────┬──────────────┬────────────────┬────────────┬───┬────────────────────┬──────────┬───────────────┐\n",
      "│ table_catalog │ table_schema │   table_name   │ table_type │ … │ is_insertable_into │ is_typed │ commit_action │\n",
      "│    varchar    │   varchar    │    varchar     │  varchar   │   │      varchar       │ varchar  │    varchar    │\n",
      "├───────────────┼──────────────┼────────────────┼────────────┼───┼────────────────────┼──────────┼───────────────┤\n",
      "│ warehouse     │ mogens       │ rick_and_morty │ BASE TABLE │ … │ YES                │ NO       │ NULL          │\n",
      "├───────────────┴──────────────┴────────────────┴────────────┴───┴────────────────────┴──────────┴───────────────┤\n",
      "│ 1 rows                                                                                    12 columns (7 shown) │\n",
      "└────────────────────────────────────────────────────────────────────────────────────────────────────────────────┘\n",
      "\n"
     ]
    }
   ],
   "source": [
    "print(conn_duckdb.sql(\"select * \\\n",
    "                      from warehouse.information_schema.tables \\\n",
    "                      where table_schema = 'mogens'\"))"
   ]
  },
  {
   "cell_type": "code",
   "execution_count": 8,
   "metadata": {},
   "outputs": [
    {
     "data": {
      "text/plain": [
       "┌───────────────────┬───────────┐\n",
       "│    column_name    │ data_type │\n",
       "│      varchar      │  varchar  │\n",
       "├───────────────────┼───────────┤\n",
       "│ _sdc_batched_at   │ TIMESTAMP │\n",
       "│ _sdc_deleted_at   │ VARCHAR   │\n",
       "│ _sdc_extracted_at │ TIMESTAMP │\n",
       "│ created           │ VARCHAR   │\n",
       "│ episode           │ VARCHAR   │\n",
       "│ gender            │ VARCHAR   │\n",
       "│ id                │ HUGEINT   │\n",
       "│ image             │ VARCHAR   │\n",
       "│ location_name     │ VARCHAR   │\n",
       "│ location_url      │ VARCHAR   │\n",
       "│ name              │ VARCHAR   │\n",
       "│ origin_name       │ VARCHAR   │\n",
       "│ origin_url        │ VARCHAR   │\n",
       "│ species           │ VARCHAR   │\n",
       "│ status            │ VARCHAR   │\n",
       "│ type              │ VARCHAR   │\n",
       "│ url               │ VARCHAR   │\n",
       "├───────────────────┴───────────┤\n",
       "│ 17 rows             2 columns │\n",
       "└───────────────────────────────┘"
      ]
     },
     "execution_count": 8,
     "metadata": {},
     "output_type": "execute_result"
    }
   ],
   "source": [
    "conn_duckdb.sql(\"select column_name, data_type \\\n",
    "                from warehouse.information_schema.columns \\\n",
    "                where table_name = 'rick_and_morty'\")"
   ]
  },
  {
   "cell_type": "code",
   "execution_count": 27,
   "metadata": {},
   "outputs": [
    {
     "data": {
      "text/plain": [
       "┌───────────────────────────┬─────────┐\n",
       "│           name            │ status  │\n",
       "│          varchar          │ varchar │\n",
       "├───────────────────────────┼─────────┤\n",
       "│ Rick Sanchez              │ Alive   │\n",
       "│ Morty Smith               │ Alive   │\n",
       "│ Summer Smith              │ Alive   │\n",
       "│ Beth Smith                │ Alive   │\n",
       "│ Jerry Smith               │ Alive   │\n",
       "│ Abadango Cluster Princess │ Alive   │\n",
       "│ Abradolf Lincler          │ unknown │\n",
       "│ Adjudicator Rick          │ Dead    │\n",
       "│ Agency Director           │ Dead    │\n",
       "│ Alan Rails                │ Dead    │\n",
       "│ Albert Einstein           │ Dead    │\n",
       "│ Alexander                 │ Dead    │\n",
       "│ Alien Googah              │ unknown │\n",
       "│ Alien Morty               │ unknown │\n",
       "│ Alien Rick                │ unknown │\n",
       "│ Amish Cyborg              │ Dead    │\n",
       "│ Annie                     │ Alive   │\n",
       "│ Antenna Morty             │ Alive   │\n",
       "│ Antenna Rick              │ unknown │\n",
       "│ Ants in my Eyes Johnson   │ unknown │\n",
       "├───────────────────────────┴─────────┤\n",
       "│ 20 rows                   2 columns │\n",
       "└─────────────────────────────────────┘"
      ]
     },
     "execution_count": 27,
     "metadata": {},
     "output_type": "execute_result"
    }
   ],
   "source": [
    "conn_duckdb.sql(\"select name, status \\\n",
    "from warehouse.mogens.rick_and_morty\")"
   ]
  },
  {
   "cell_type": "code",
   "execution_count": 9,
   "metadata": {},
   "outputs": [],
   "source": [
    "conn_duckdb.close()"
   ]
  },
  {
   "cell_type": "code",
   "execution_count": null,
   "metadata": {},
   "outputs": [],
   "source": []
  }
 ],
 "metadata": {
  "kernelspec": {
   "display_name": ".meltano",
   "language": "python",
   "name": "python3"
  },
  "language_info": {
   "codemirror_mode": {
    "name": "ipython",
    "version": 3
   },
   "file_extension": ".py",
   "mimetype": "text/x-python",
   "name": "python",
   "nbconvert_exporter": "python",
   "pygments_lexer": "ipython3",
   "version": "3.10.7"
  },
  "orig_nbformat": 4
 },
 "nbformat": 4,
 "nbformat_minor": 2
}
