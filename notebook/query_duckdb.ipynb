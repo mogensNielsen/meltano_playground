{
 "cells": [
  {
   "cell_type": "code",
   "execution_count": 1,
   "metadata": {},
   "outputs": [],
   "source": [
    "import duckdb\n",
    "import os\n",
    "import pandas as pd"
   ]
  },
  {
   "cell_type": "code",
   "execution_count": 2,
   "metadata": {},
   "outputs": [],
   "source": [
    "conn_duckdb = duckdb.connect('../output/warehouse.duckdb')"
   ]
  },
  {
   "cell_type": "code",
   "execution_count": 3,
   "metadata": {},
   "outputs": [
    {
     "name": "stdout",
     "output_type": "stream",
     "text": [
      "┌───────────────┐\n",
      "│ database_name │\n",
      "│    varchar    │\n",
      "├───────────────┤\n",
      "│ warehouse     │\n",
      "└───────────────┘\n",
      "\n"
     ]
    }
   ],
   "source": [
    "print(conn_duckdb.sql('SHOW DATABASES'))"
   ]
  },
  {
   "cell_type": "code",
   "execution_count": 4,
   "metadata": {},
   "outputs": [
    {
     "name": "stdout",
     "output_type": "stream",
     "text": [
      "┌──────────────┬────────────────────┬──────────────┬───┬──────────────────────┬──────────────────────┬──────────┐\n",
      "│ catalog_name │    schema_name     │ schema_owner │ … │ default_character_…  │ default_character_…  │ sql_path │\n",
      "│   varchar    │      varchar       │   varchar    │   │        int32         │        int32         │ varchar  │\n",
      "├──────────────┼────────────────────┼──────────────┼───┼──────────────────────┼──────────────────────┼──────────┤\n",
      "│ system       │ information_schema │ duckdb       │ … │                 NULL │                 NULL │ NULL     │\n",
      "│ system       │ main               │ duckdb       │ … │                 NULL │                 NULL │ NULL     │\n",
      "│ system       │ pg_catalog         │ duckdb       │ … │                 NULL │                 NULL │ NULL     │\n",
      "│ temp         │ information_schema │ duckdb       │ … │                 NULL │                 NULL │ NULL     │\n",
      "│ temp         │ main               │ duckdb       │ … │                 NULL │                 NULL │ NULL     │\n",
      "│ temp         │ pg_catalog         │ duckdb       │ … │                 NULL │                 NULL │ NULL     │\n",
      "│ warehouse    │ information_schema │ duckdb       │ … │                 NULL │                 NULL │ NULL     │\n",
      "│ warehouse    │ main               │ duckdb       │ … │                 NULL │                 NULL │ NULL     │\n",
      "│ warehouse    │ monstermachines    │ duckdb       │ … │                 NULL │                 NULL │ NULL     │\n",
      "│ warehouse    │ pg_catalog         │ duckdb       │ … │                 NULL │                 NULL │ NULL     │\n",
      "├──────────────┴────────────────────┴──────────────┴───┴──────────────────────┴──────────────────────┴──────────┤\n",
      "│ 10 rows                                                                                   7 columns (6 shown) │\n",
      "└───────────────────────────────────────────────────────────────────────────────────────────────────────────────┘\n",
      "\n"
     ]
    }
   ],
   "source": [
    "print(conn_duckdb.sql('select * from warehouse.information_schema.schemata'))"
   ]
  },
  {
   "cell_type": "code",
   "execution_count": 5,
   "metadata": {},
   "outputs": [
    {
     "name": "stdout",
     "output_type": "stream",
     "text": [
      "┌───────────────┬─────────────────┬────────────┬────────────┬───┬────────────────────┬──────────┬───────────────┐\n",
      "│ table_catalog │  table_schema   │ table_name │ table_type │ … │ is_insertable_into │ is_typed │ commit_action │\n",
      "│    varchar    │     varchar     │  varchar   │  varchar   │   │      varchar       │ varchar  │    varchar    │\n",
      "├───────────────┼─────────────────┼────────────┼────────────┼───┼────────────────────┼──────────┼───────────────┤\n",
      "│ warehouse     │ monstermachines │ cars       │ BASE TABLE │ … │ YES                │ NO       │ NULL          │\n",
      "│ warehouse     │ monstermachines │ colors     │ BASE TABLE │ … │ YES                │ NO       │ NULL          │\n",
      "├───────────────┴─────────────────┴────────────┴────────────┴───┴────────────────────┴──────────┴───────────────┤\n",
      "│ 2 rows                                                                                   12 columns (7 shown) │\n",
      "└───────────────────────────────────────────────────────────────────────────────────────────────────────────────┘\n",
      "\n"
     ]
    }
   ],
   "source": [
    "print(conn_duckdb.sql('select * from warehouse.information_schema.tables'))"
   ]
  },
  {
   "cell_type": "code",
   "execution_count": 7,
   "metadata": {},
   "outputs": [
    {
     "data": {
      "text/plain": [
       "┌─────────┬──────────┬─────────────┬───┬────────────┬──────────────────────┬──────────────────────┬────────────────────┐\n",
       "│ car_id  │ car_name │ fk_color_id │ … │ color_name │   _sdc_source_file   │ _sdc_source_file_m…  │ _sdc_source_lineno │\n",
       "│ varchar │ varchar  │   varchar   │   │  varchar   │       varchar        │      timestamp       │       int128       │\n",
       "├─────────┼──────────┼─────────────┼───┼────────────┼──────────────────────┼──────────────────────┼────────────────────┤\n",
       "│ 1       │ Blaze    │ 1           │ … │ Red        │ data/test/colors.csv │ 2023-08-26 18:25:3…  │                  1 │\n",
       "│ 2       │ Pickle   │ 2           │ … │ Green      │ data/test/colors.csv │ 2023-08-26 18:25:3…  │                  2 │\n",
       "├─────────┴──────────┴─────────────┴───┴────────────┴──────────────────────┴──────────────────────┴────────────────────┤\n",
       "│ 2 rows                                                                                          11 columns (7 shown) │\n",
       "└──────────────────────────────────────────────────────────────────────────────────────────────────────────────────────┘"
      ]
     },
     "execution_count": 7,
     "metadata": {},
     "output_type": "execute_result"
    }
   ],
   "source": [
    "conn_duckdb.sql(' \\\n",
    "    select * \\\n",
    "    from warehouse.monstermachines.cars \\\n",
    "        join warehouse.monstermachines.colors on cars.fk_color_id = colors.color_id')"
   ]
  },
  {
   "cell_type": "code",
   "execution_count": 8,
   "metadata": {},
   "outputs": [],
   "source": [
    "conn_duckdb.close()"
   ]
  },
  {
   "cell_type": "code",
   "execution_count": null,
   "metadata": {},
   "outputs": [],
   "source": []
  }
 ],
 "metadata": {
  "kernelspec": {
   "display_name": ".meltano",
   "language": "python",
   "name": "python3"
  },
  "language_info": {
   "codemirror_mode": {
    "name": "ipython",
    "version": 3
   },
   "file_extension": ".py",
   "mimetype": "text/x-python",
   "name": "python",
   "nbconvert_exporter": "python",
   "pygments_lexer": "ipython3",
   "version": "3.10.7"
  },
  "orig_nbformat": 4
 },
 "nbformat": 4,
 "nbformat_minor": 2
}
